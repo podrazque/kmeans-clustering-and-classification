{
 "cells": [
  {
   "cell_type": "code",
   "execution_count": 1,
   "metadata": {},
   "outputs": [],
   "source": [
    "import pandas as pd\n",
    "import numpy as np\n",
    "import matplotlib.pyplot as plt\n",
    "import random\n",
    "import math\n",
    "import seaborn as sns\n",
    "import pickle, gzip\n",
    "from mpl_toolkits.axes_grid1 import ImageGrid\n",
    "from sklearn.cluster import KMeans"
   ]
  },
  {
   "cell_type": "code",
   "execution_count": 4,
   "metadata": {},
   "outputs": [],
   "source": [
    "def get_data():\n",
    "    with gzip.open('mnist.pkl.gz', 'rb') as fd:\n",
    "        #u = pickle._Unpickler(fd)\n",
    "        #u.encoding = 'latin1'\n",
    "        train_set, valid_set, test_set = pickle.load(fd)\n",
    "        #u.load()\n",
    "        return train_set, valid_set, test_set"
   ]
  },
  {
   "cell_type": "code",
   "execution_count": 5,
   "metadata": {},
   "outputs": [],
   "source": [
    "train_set, valid_set, test_set = get_data()"
   ]
  },
  {
   "cell_type": "code",
   "execution_count": 6,
   "metadata": {},
   "outputs": [],
   "source": [
    "# combine train and val\n",
    "train_set = (np.concatenate([train_set[0], valid_set[0]], axis=0), \n",
    "                np.concatenate([train_set[1], valid_set[1]], axis=0))"
   ]
  },
  {
   "cell_type": "code",
   "execution_count": 7,
   "metadata": {},
   "outputs": [
    {
     "name": "stdout",
     "output_type": "stream",
     "text": [
      "('Size of training set:', 60000)\n"
     ]
    }
   ],
   "source": [
    "print(\"Size of training set:\", len(train_set[0]))"
   ]
  },
  {
   "cell_type": "code",
   "execution_count": 8,
   "metadata": {},
   "outputs": [
    {
     "name": "stdout",
     "output_type": "stream",
     "text": [
      "('Size of each training set item (28x28 image 1-d array): ', 784)\n"
     ]
    }
   ],
   "source": [
    "print(\"Size of each training set item (28x28 image 1-d array): \", len(train_set[0][0]))"
   ]
  },
  {
   "cell_type": "code",
   "execution_count": 9,
   "metadata": {},
   "outputs": [
    {
     "data": {
      "text/plain": [
       "(60000, 28, 28)"
      ]
     },
     "execution_count": 9,
     "metadata": {},
     "output_type": "execute_result"
    }
   ],
   "source": [
    "#Reshaping each 784 1-d array into 28x28 2-d array\n",
    "train_set[0].reshape(60000,28,28).shape"
   ]
  },
  {
   "cell_type": "code",
   "execution_count": 10,
   "metadata": {},
   "outputs": [],
   "source": [
    "#Creating 4x4 grid of 10x10 patches\n",
    "def patch_creation(image):\n",
    "    patches = []\n",
    "    x=[0,6,12,18]\n",
    "    y=[0,6,12,18]\n",
    "    for i in x:\n",
    "        for j in y:\n",
    "            patch = image[i:i+10,j:j+10].reshape(-1,100)\n",
    "            patches.append(patch)\n",
    "    return(patches)"
   ]
  },
  {
   "cell_type": "code",
   "execution_count": 11,
   "metadata": {},
   "outputs": [],
   "source": [
    "def plot_image(test): \n",
    "    fig = plt.figure(figsize=(4., 4.))\n",
    "    grid = ImageGrid(fig, 111,  # similar to subplot(111)\n",
    "                     nrows_ncols=(4, 4),  # creates 2x2 grid of axes\n",
    "                     axes_pad=0.1,  # pad between axes in inch.\n",
    "                     )\n",
    "\n",
    "    for ax, im in zip(grid, [test[0].reshape(10, 10), test[1].reshape(10, 10), test[2].reshape(10, 10), test[3].reshape(10, 10),\n",
    "                            test[4].reshape(10, 10), test[5].reshape(10, 10), test[6].reshape(10, 10), test[7].reshape(10, 10),\n",
    "                            test[8].reshape(10, 10), test[9].reshape(10, 10),test[10].reshape(10, 10),test[11].reshape(10, 10),\n",
    "                            test[12].reshape(10, 10), test[13].reshape(10, 10),test[14].reshape(10, 10),test[15].reshape(10, 10)]):\n",
    "        # Iterating over the grid returns the Axes.\n",
    "        ax.imshow(im, cmap='Greys_r')\n",
    "\n",
    "    plt.show()"
   ]
  },
  {
   "cell_type": "code",
   "execution_count": 12,
   "metadata": {},
   "outputs": [],
   "source": [
    "#this function is simply here to make sure that our grid creation works correctly\n",
    "def test_image():\n",
    "    #fetch one image\n",
    "    image = train_set[0][1].reshape(28,28)\n",
    "    \n",
    "    print(\"Image shape: \",image.shape)\n",
    "    \n",
    "    #create 16 - 10x10 patches\n",
    "    test = patch_creation(image)\n",
    "    \n",
    "    print(\"Num patches: \", len(test))\n",
    "    \n",
    "    #plotting the test image to see create patches\n",
    "    plot_image(test)\n",
    "    \n",
    "    #plt.imshow(image.reshape(28, 28), cmap='Greys_r')\n",
    "    "
   ]
  },
  {
   "cell_type": "code",
   "execution_count": 13,
   "metadata": {},
   "outputs": [
    {
     "name": "stdout",
     "output_type": "stream",
     "text": [
      "('Image shape: ', (28, 28))\n",
      "('Num patches: ', 16)\n"
     ]
    },
    {
     "data": {
      "image/png": "[encoded data removed]",
      "text/plain": [
       "<Figure size 288x288 with 32 Axes>"
      ]
     },
     "metadata": {
      "needs_background": "light"
     },
     "output_type": "display_data"
    }
   ],
   "source": [
    "test_image()"
   ]
  },
  {
   "cell_type": "code",
   "execution_count": 14,
   "metadata": {},
   "outputs": [],
   "source": [
    "#reshaping each 784 1-d array into 28x28 2-d array and creating patches for each image\n",
    "training_patches=[]\n",
    "for i in range(60000):\n",
    "    image = train_set[0][i].reshape(28,28)\n",
    "    training_patches.append(patch_creation(image))"
   ]
  },
  {
   "cell_type": "code",
   "execution_count": 15,
   "metadata": {},
   "outputs": [
    {
     "name": "stdout",
     "output_type": "stream",
     "text": [
      "('Amount of training images: ', 60000)\n"
     ]
    }
   ],
   "source": [
    "print(\"Amount of training images: \", len(training_patches))"
   ]
  },
  {
   "cell_type": "code",
   "execution_count": 16,
   "metadata": {},
   "outputs": [
    {
     "name": "stdout",
     "output_type": "stream",
     "text": [
      "('Amount of matrices (patches) in each training image: ', 16)\n"
     ]
    }
   ],
   "source": [
    "print(\"Amount of matrices (patches) in each training image: \", len(training_patches[0]))"
   ]
  },
  {
   "cell_type": "code",
   "execution_count": 17,
   "metadata": {},
   "outputs": [],
   "source": [
    "#Choosing 1 patch from the 16 previously created for each image at random and appending to \n",
    "#training list\n",
    "train_cluster=[]\n",
    "for i in range(60000):\n",
    "    n = random.randint(0, 15)\n",
    "    train_cluster.append(training_patches[i][n])"
   ]
  },
  {
   "cell_type": "code",
   "execution_count": 18,
   "metadata": {},
   "outputs": [],
   "source": [
    "#creates a list of 6000 numbers where each is between 0 - 59999\n",
    "indices = random.sample(range(60000), 6000)"
   ]
  },
  {
   "cell_type": "code",
   "execution_count": 19,
   "metadata": {},
   "outputs": [
    {
     "data": {
      "text/plain": [
       "(1, 100)"
      ]
     },
     "execution_count": 19,
     "metadata": {},
     "output_type": "execute_result"
    }
   ],
   "source": [
    "train_cluster[0].shape"
   ]
  },
  {
   "cell_type": "code",
   "execution_count": 20,
   "metadata": {},
   "outputs": [],
   "source": [
    "#appending randomly sampled patches using the previously created list of indices\n",
    "train_cluster_sample=[]\n",
    "for ind in indices:\n",
    "    train_cluster_sample.append(train_cluster[ind])"
   ]
  },
  {
   "cell_type": "code",
   "execution_count": 21,
   "metadata": {},
   "outputs": [
    {
     "name": "stdout",
     "output_type": "stream",
     "text": [
      "('Length of our randomly sampled patches: ', 6000)\n"
     ]
    }
   ],
   "source": [
    "print(\"Length of our randomly sampled patches: \", len(train_cluster_sample))"
   ]
  },
  {
   "cell_type": "code",
   "execution_count": 22,
   "metadata": {
    "scrolled": true
   },
   "outputs": [
    {
     "data": {
      "text/plain": [
       "array([0.        , 0.        , 0.        , 0.        , 0.        ,\n",
       "       0.        , 0.        , 0.        , 0.        , 0.19921875,\n",
       "       0.        , 0.        , 0.        , 0.        , 0.        ,\n",
       "       0.        , 0.        , 0.        , 0.        , 0.55078125,\n",
       "       0.        , 0.        , 0.        , 0.        , 0.        ,\n",
       "       0.        , 0.        , 0.        , 0.        , 0.74609375,\n",
       "       0.        , 0.        , 0.        , 0.        , 0.        ,\n",
       "       0.        , 0.        , 0.        , 0.        , 0.41015625,\n",
       "       0.        , 0.        , 0.        , 0.        , 0.        ,\n",
       "       0.        , 0.        , 0.        , 0.        , 0.        ,\n",
       "       0.        , 0.        , 0.        , 0.        , 0.        ,\n",
       "       0.        , 0.        , 0.        , 0.        , 0.        ,\n",
       "       0.        , 0.        , 0.        , 0.        , 0.        ,\n",
       "       0.        , 0.        , 0.        , 0.        , 0.        ,\n",
       "       0.        , 0.        , 0.        , 0.        , 0.        ,\n",
       "       0.        , 0.        , 0.        , 0.        , 0.        ,\n",
       "       0.        , 0.        , 0.        , 0.        , 0.        ,\n",
       "       0.        , 0.        , 0.        , 0.        , 0.        ,\n",
       "       0.        , 0.        , 0.        , 0.        , 0.        ,\n",
       "       0.        , 0.        , 0.        , 0.        , 0.22265625],\n",
       "      dtype=float32)"
      ]
     },
     "execution_count": 22,
     "metadata": {},
     "output_type": "execute_result"
    }
   ],
   "source": [
    "train_cluster_sample[0][0]"
   ]
  },
  {
   "cell_type": "code",
   "execution_count": 23,
   "metadata": {},
   "outputs": [],
   "source": [
    "#creating a 6000x100 matrix of zeros that where each row will be one of our samples\n",
    "training_matrix = np.zeros((6000,100))\n",
    "for i in range(6000):\n",
    "    #making eacch row a random patch\n",
    "    training_matrix[i,:] = train_cluster_sample[i][0]"
   ]
  },
  {
   "cell_type": "code",
   "execution_count": 24,
   "metadata": {},
   "outputs": [
    {
     "data": {
      "text/plain": [
       "array([0.        , 0.        , 0.        , 0.015625  , 0.5       ,\n",
       "       0.84375   , 0.0625    , 0.        , 0.        , 0.        ,\n",
       "       0.        , 0.        , 0.        , 0.11328125, 0.984375  ,\n",
       "       0.984375  , 0.109375  , 0.        , 0.        , 0.        ,\n",
       "       0.        , 0.        , 0.        , 0.45703125, 0.984375  ,\n",
       "       0.984375  , 0.109375  , 0.        , 0.        , 0.        ,\n",
       "       0.        , 0.        , 0.        , 0.74609375, 0.984375  ,\n",
       "       0.984375  , 0.109375  , 0.        , 0.        , 0.        ,\n",
       "       0.        , 0.        , 0.05078125, 0.99609375, 0.98828125,\n",
       "       0.8046875 , 0.05078125, 0.        , 0.        , 0.        ,\n",
       "       0.        , 0.        , 0.44140625, 0.98828125, 0.984375  ,\n",
       "       0.5546875 , 0.        , 0.        , 0.        , 0.        ,\n",
       "       0.        , 0.        , 0.5859375 , 0.98828125, 0.984375  ,\n",
       "       0.3671875 , 0.        , 0.        , 0.        , 0.        ,\n",
       "       0.        , 0.        , 0.68359375, 0.98828125, 0.984375  ,\n",
       "       0.94921875, 0.87890625, 0.4921875 , 0.87890625, 0.87890625,\n",
       "       0.        , 0.        , 0.19921875, 0.9453125 , 0.98828125,\n",
       "       0.98828125, 0.98828125, 0.9921875 , 0.98828125, 0.98828125,\n",
       "       0.        , 0.        , 0.        , 0.4296875 , 0.8125    ,\n",
       "       0.984375  , 0.7890625 , 0.76953125, 0.765625  , 0.83984375])"
      ]
     },
     "execution_count": 24,
     "metadata": {},
     "output_type": "execute_result"
    }
   ],
   "source": [
    "training_matrix[1,:]"
   ]
  },
  {
   "cell_type": "code",
   "execution_count": 25,
   "metadata": {},
   "outputs": [
    {
     "name": "stdout",
     "output_type": "stream",
     "text": [
      "[[0.40650292 0.7176821  0.84799348 ... 0.02655688 0.02447729 0.01933453]\n",
      " [0.04071491 0.01060578 0.00722966 ... 0.01083209 0.00755208 0.03060516]\n",
      " [0.00924266 0.01974471 0.02527322 ... 0.52469689 0.7282915  0.65168204]\n",
      " ...\n",
      " [0.02478227 0.03989498 0.07844518 ... 0.45030738 0.37070953 0.33651383]\n",
      " [0.02075195 0.01513672 0.01403809 ... 0.6114502  0.59893799 0.42224121]\n",
      " [0.00304806 0.00754616 0.0094401  ... 0.76293205 0.65553977 0.5908795 ]]\n"
     ]
    }
   ],
   "source": [
    "# create kmeans object\n",
    "kmeans = KMeans(n_clusters=50)\n",
    "# fit kmeans object to data\n",
    "kmeans.fit(training_matrix)\n",
    "# print location of clusters learned by kmeans object\n",
    "print(kmeans.cluster_centers_)\n",
    "# save new clusters for chart\n",
    "y_km = kmeans.fit_predict(training_matrix)"
   ]
  },
  {
   "cell_type": "code",
   "execution_count": 26,
   "metadata": {},
   "outputs": [],
   "source": [
    "training_matrix_60k = np.zeros((60000,100))\n",
    "for i in range(60000):\n",
    "    training_matrix_60k[i,:] = train_cluster[i][0]"
   ]
  },
  {
   "cell_type": "code",
   "execution_count": 27,
   "metadata": {},
   "outputs": [],
   "source": [
    "y_km_60k = kmeans.fit_predict(training_matrix_60k)"
   ]
  },
  {
   "cell_type": "code",
   "execution_count": 28,
   "metadata": {},
   "outputs": [
    {
     "data": {
      "text/plain": [
       "array([ 0,  1,  2,  3,  4,  5,  6,  7,  8,  9, 10, 11, 12, 13, 14, 15, 16,\n",
       "       17, 18, 19, 20, 21, 22, 23, 24, 25, 26, 27, 28, 29, 30, 31, 32, 33,\n",
       "       34, 35, 36, 37, 38, 39, 40, 41, 42, 43, 44, 45, 46, 47, 48, 49],\n",
       "      dtype=int32)"
      ]
     },
     "execution_count": 28,
     "metadata": {},
     "output_type": "execute_result"
    }
   ],
   "source": [
    "np.unique(y_km_60k)"
   ]
  },
  {
   "cell_type": "code",
   "execution_count": 29,
   "metadata": {},
   "outputs": [],
   "source": [
    "#cluster_dict=[]\n",
    "cluster_dict = {}\n",
    "for i in range(50):\n",
    "    key = str(i)\n",
    "    subtrain_matrix = training_matrix_60k[y_km_60k==i,:]\n",
    "    kmeans_sub = KMeans(n_clusters=50)\n",
    "    kmeans_sub.fit(subtrain_matrix)\n",
    "    cluster_dict[key] = kmeans_sub \n",
    "    y_km_sub = kmeans_sub.fit_predict(subtrain_matrix)\n",
    "    #cluster_dict.append(y_km_sub)"
   ]
  },
  {
   "cell_type": "code",
   "execution_count": 30,
   "metadata": {},
   "outputs": [],
   "source": [
    "def pad_with(vector, pad_width, iaxis, kwargs):\n",
    "    pad_value = kwargs.get('padder', 0)\n",
    "    vector[:pad_width[0]] = pad_value\n",
    "    vector[-pad_width[1]:] = pad_value"
   ]
  },
  {
   "cell_type": "code",
   "execution_count": 31,
   "metadata": {},
   "outputs": [],
   "source": [
    "def patch_b(image):\n",
    "    patches16 = []\n",
    "    x_ = [0, 1, 2]\n",
    "    y_ = [0, 1, 2]\n",
    "    x=[0,6,12,18]\n",
    "    y=[0,6,12,18]\n",
    "    for i in x:\n",
    "        for j in y:\n",
    "            patches9 = []\n",
    "            for k in x_:\n",
    "                for l in y_:\n",
    "                    patch = image[i+k:i+k+10, j+l:j+l+10].reshape(-1,100)\n",
    "                    patches9.append(patch)\n",
    "            patches16.append(patches9)\n",
    "    return patches16"
   ]
  },
  {
   "cell_type": "code",
   "execution_count": 32,
   "metadata": {},
   "outputs": [],
   "source": [
    "testing_patches = []\n",
    "for i in range(10000):\n",
    "    testing_reshaped = test_set[0][i].reshape(28,28)\n",
    "    testing_padded = np.pad(testing_reshaped, 1, pad_with)\n",
    "    testing_patched = patch_b(testing_padded)\n",
    "    testing_patches.append(testing_patched)"
   ]
  },
  {
   "cell_type": "code",
   "execution_count": 33,
   "metadata": {},
   "outputs": [
    {
     "name": "stdout",
     "output_type": "stream",
     "text": [
      "('Shape of padded image: ', (30, 30))\n",
      "('Number of original patches: ', 16)\n",
      "('Number of recentered patches per original patch: ', 9)\n",
      "('Total number of patches for each image: ', 144)\n"
     ]
    }
   ],
   "source": [
    "print(\"Shape of padded image: \", testing_padded.shape)\n",
    "print(\"Number of original patches: \", len(testing_patched))\n",
    "print(\"Number of recentered patches per original patch: \", len(testing_patched[0]))\n",
    "print(\"Total number of patches for each image: \", len(testing_patched) * len(testing_patched[0]))"
   ]
  },
  {
   "cell_type": "code",
   "execution_count": 42,
   "metadata": {},
   "outputs": [
    {
     "data": {
      "text/plain": [
       "(1, 100)"
      ]
     },
     "execution_count": 42,
     "metadata": {},
     "output_type": "execute_result"
    }
   ],
   "source": [
    "testing_patches[0][0][0].shape"
   ]
  },
  {
   "cell_type": "code",
   "execution_count": 43,
   "metadata": {},
   "outputs": [],
   "source": [
    "testing_matrix_1440k = np.zeros((1440000,100))\n",
    "z=0\n",
    "for i in range(10000):\n",
    "    for j in range(16):\n",
    "        for k in range(9):\n",
    "            testing_matrix_1440k[z,:] = testing_patches[i][j][k]\n",
    "            z=z+1"
   ]
  },
  {
   "cell_type": "code",
   "execution_count": 44,
   "metadata": {},
   "outputs": [],
   "source": [
    "test_km_1440k = kmeans.fit_predict(testing_matrix_1440k)"
   ]
  },
  {
   "cell_type": "code",
   "execution_count": 45,
   "metadata": {},
   "outputs": [],
   "source": [
    "test_50clusters= np.zeros((10000,16,9))"
   ]
  },
  {
   "cell_type": "code",
   "execution_count": 54,
   "metadata": {},
   "outputs": [],
   "source": [
    "z=0\n",
    "for i in range(10000):\n",
    "    for j in range(16):\n",
    "        for k in range(9):\n",
    "            test_50clusters[i,j,k] = test_km_1440k[z]\n",
    "            z=z+1"
   ]
  },
  {
   "cell_type": "code",
   "execution_count": 56,
   "metadata": {},
   "outputs": [
    {
     "data": {
      "text/plain": [
       "array([20., 40.,  3., 20., 40.,  3., 24., 24., 24.])"
      ]
     },
     "execution_count": 56,
     "metadata": {},
     "output_type": "execute_result"
    }
   ],
   "source": [
    "test_50clusters[10,9,:]"
   ]
  },
  {
   "cell_type": "code",
   "execution_count": null,
   "metadata": {},
   "outputs": [],
   "source": []
  }
 ],
 "metadata": {
  "kernelspec": {
   "display_name": "Python 2",
   "language": "python",
   "name": "python2"
  },
  "language_info": {
   "codemirror_mode": {
    "name": "ipython",
    "version": 2
   },
   "file_extension": ".py",
   "mimetype": "text/x-python",
   "name": "python",
   "nbconvert_exporter": "python",
   "pygments_lexer": "ipython2",
   "version": "2.7.16"
  }
 },
 "nbformat": 4,
 "nbformat_minor": 4
}
